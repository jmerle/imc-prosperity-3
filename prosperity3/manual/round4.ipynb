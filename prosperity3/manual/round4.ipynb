{
 "cells": [
  {
   "cell_type": "code",
   "execution_count": 1,
   "metadata": {},
   "outputs": [],
   "source": [
    "import plotly.graph_objects as go\n",
    "from plotly.subplots import make_subplots"
   ]
  },
  {
   "cell_type": "code",
   "execution_count": 2,
   "metadata": {},
   "outputs": [
    {
     "name": "stdout",
     "output_type": "stream",
     "text": [
      "multiplier=80 inhabitants=6 base_shells=133,333 inhabitants_pct=6.742 expected_shells_inhabitants=62,787 base_pct=5.031 expected_shells_base=72,524\n",
      "multiplier=50 inhabitants=4 base_shells=125,000 inhabitants_pct=4.494 expected_shells_inhabitants=58,862 base_pct=4.716 expected_shells_base=57,363\n",
      "multiplier=83 inhabitants=7 base_shells=118,571 inhabitants_pct=7.865 expected_shells_inhabitants=55,835 base_pct=4.474 expected_shells_base=72,338\n",
      "multiplier=31 inhabitants=2 base_shells=155,000 inhabitants_pct=2.247 expected_shells_inhabitants=72,989 base_pct=5.848 expected_shells_base=39,499\n",
      "multiplier=60 inhabitants=4 base_shells=150,000 inhabitants_pct=4.494 expected_shells_inhabitants=70,635 base_pct=5.660 expected_shells_base=62,114\n",
      "multiplier=89 inhabitants=8 base_shells=111,250 inhabitants_pct=8.989 expected_shells_inhabitants=52,388 base_pct=4.198 expected_shells_base=72,965\n",
      "multiplier=10 inhabitants=1 base_shells=100,000 inhabitants_pct=1.124 expected_shells_inhabitants=47,090 base_pct=3.773 expected_shells_base=20,951\n",
      "multiplier=37 inhabitants=3 base_shells=123,333 inhabitants_pct=3.371 expected_shells_inhabitants=58,078 base_pct=4.654 expected_shells_base=48,344\n",
      "multiplier=70 inhabitants=4 base_shells=175,000 inhabitants_pct=4.494 expected_shells_inhabitants=82,407 base_pct=6.603 expected_shells_base=66,019\n",
      "multiplier=90 inhabitants=10 base_shells=90,000 inhabitants_pct=11.236 expected_shells_inhabitants=42,381 base_pct=3.396 expected_shells_base=67,185\n",
      "multiplier=17 inhabitants=1 base_shells=170,000 inhabitants_pct=1.124 expected_shells_inhabitants=80,053 base_pct=6.414 expected_shells_base=22,929\n",
      "multiplier=40 inhabitants=3 base_shells=133,333 inhabitants_pct=3.371 expected_shells_inhabitants=62,787 base_pct=5.031 expected_shells_base=49,808\n",
      "multiplier=73 inhabitants=4 base_shells=182,500 inhabitants_pct=4.494 expected_shells_inhabitants=85,939 base_pct=6.886 expected_shells_base=67,059\n",
      "multiplier=100 inhabitants=15 base_shells=66,667 inhabitants_pct=16.854 expected_shells_inhabitants=31,393 base_pct=2.515 expected_shells_base=57,093\n",
      "multiplier=20 inhabitants=2 base_shells=100,000 inhabitants_pct=2.247 expected_shells_inhabitants=47,090 base_pct=3.773 expected_shells_base=34,643\n",
      "multiplier=41 inhabitants=3 base_shells=136,667 inhabitants_pct=3.371 expected_shells_inhabitants=64,356 base_pct=5.157 expected_shells_base=50,266\n",
      "multiplier=79 inhabitants=5 base_shells=158,000 inhabitants_pct=5.618 expected_shells_inhabitants=74,402 base_pct=5.962 expected_shells_base=72,070\n",
      "multiplier=23 inhabitants=2 base_shells=115,000 inhabitants_pct=2.247 expected_shells_inhabitants=54,153 base_pct=4.339 expected_shells_base=36,283\n",
      "multiplier=47 inhabitants=3 base_shells=156,667 inhabitants_pct=3.371 expected_shells_inhabitants=73,774 base_pct=5.911 expected_shells_base=52,742\n",
      "multiplier=30 inhabitants=2 base_shells=150,000 inhabitants_pct=2.247 expected_shells_inhabitants=70,635 base_pct=5.660 expected_shells_base=39,166\n"
     ]
    },
    {
     "data": {
      "application/vnd.plotly.v1+json": {
       "config": {
        "plotlyServerURL": "https://plot.ly"
       },
       "data": [
        {
         "name": "80x (6)",
         "type": "scatter",
         "x": [
          0,
          1,
          2,
          3,
          4,
          5,
          6,
          7,
          8,
          9,
          10
         ],
         "xaxis": "x",
         "y": [
          133333.33333333334,
          114285.71428571429,
          100000,
          88888.88888888889,
          80000,
          72727.27272727272,
          66666.66666666667,
          61538.46153846154,
          57142.857142857145,
          53333.333333333336,
          50000
         ],
         "yaxis": "y"
        },
        {
         "name": "50x (4)",
         "type": "scatter",
         "x": [
          0,
          1,
          2,
          3,
          4,
          5,
          6,
          7,
          8,
          9,
          10
         ],
         "xaxis": "x",
         "y": [
          125000,
          100000,
          83333.33333333333,
          71428.57142857143,
          62500,
          55555.555555555555,
          50000,
          45454.545454545456,
          41666.666666666664,
          38461.53846153846,
          35714.28571428572
         ],
         "yaxis": "y"
        },
        {
         "name": "83x (7)",
         "type": "scatter",
         "x": [
          0,
          1,
          2,
          3,
          4,
          5,
          6,
          7,
          8,
          9,
          10
         ],
         "xaxis": "x",
         "y": [
          118571.42857142857,
          103750,
          92222.22222222222,
          83000,
          75454.54545454546,
          69166.66666666667,
          63846.153846153844,
          59285.71428571428,
          55333.333333333336,
          51875,
          48823.529411764706
         ],
         "yaxis": "y"
        },
        {
         "name": "31x (2)",
         "type": "scatter",
         "x": [
          0,
          1,
          2,
          3,
          4,
          5,
          6,
          7,
          8,
          9,
          10
         ],
         "xaxis": "x",
         "y": [
          155000,
          103333.33333333333,
          77500,
          62000,
          51666.666666666664,
          44285.71428571428,
          38750,
          34444.444444444445,
          31000,
          28181.81818181818,
          25833.333333333332
         ],
         "yaxis": "y"
        },
        {
         "name": "60x (4)",
         "type": "scatter",
         "x": [
          0,
          1,
          2,
          3,
          4,
          5,
          6,
          7,
          8,
          9,
          10
         ],
         "xaxis": "x",
         "y": [
          150000,
          120000,
          100000,
          85714.28571428571,
          75000,
          66666.66666666667,
          60000,
          54545.454545454544,
          50000,
          46153.846153846156,
          42857.142857142855
         ],
         "yaxis": "y"
        },
        {
         "name": "89x (8)",
         "type": "scatter",
         "x": [
          0,
          1,
          2,
          3,
          4,
          5,
          6,
          7,
          8,
          9,
          10
         ],
         "xaxis": "x",
         "y": [
          111250,
          98888.88888888889,
          89000,
          80909.09090909091,
          74166.66666666667,
          68461.53846153847,
          63571.42857142857,
          59333.333333333336,
          55625,
          52352.94117647059,
          49444.444444444445
         ],
         "yaxis": "y"
        },
        {
         "name": "10x (1)",
         "type": "scatter",
         "x": [
          0,
          1,
          2,
          3,
          4,
          5,
          6,
          7,
          8,
          9,
          10
         ],
         "xaxis": "x",
         "y": [
          100000,
          50000,
          33333.333333333336,
          25000,
          20000,
          16666.666666666668,
          14285.714285714286,
          12500,
          11111.111111111111,
          10000,
          9090.90909090909
         ],
         "yaxis": "y"
        },
        {
         "name": "37x (3)",
         "type": "scatter",
         "x": [
          0,
          1,
          2,
          3,
          4,
          5,
          6,
          7,
          8,
          9,
          10
         ],
         "xaxis": "x",
         "y": [
          123333.33333333333,
          92500,
          74000,
          61666.666666666664,
          52857.142857142855,
          46250,
          41111.11111111111,
          37000,
          33636.36363636364,
          30833.333333333332,
          28461.53846153846
         ],
         "yaxis": "y"
        },
        {
         "name": "70x (4)",
         "type": "scatter",
         "x": [
          0,
          1,
          2,
          3,
          4,
          5,
          6,
          7,
          8,
          9,
          10
         ],
         "xaxis": "x",
         "y": [
          175000,
          140000,
          116666.66666666667,
          100000,
          87500,
          77777.77777777778,
          70000,
          63636.36363636364,
          58333.333333333336,
          53846.153846153844,
          50000
         ],
         "yaxis": "y"
        },
        {
         "name": "90x (10)",
         "type": "scatter",
         "x": [
          0,
          1,
          2,
          3,
          4,
          5,
          6,
          7,
          8,
          9,
          10
         ],
         "xaxis": "x",
         "y": [
          90000,
          81818.18181818182,
          75000,
          69230.76923076923,
          64285.71428571428,
          60000,
          56250,
          52941.17647058824,
          50000,
          47368.42105263158,
          45000
         ],
         "yaxis": "y"
        },
        {
         "name": "17x (1)",
         "type": "scatter",
         "x": [
          0,
          1,
          2,
          3,
          4,
          5,
          6,
          7,
          8,
          9,
          10
         ],
         "xaxis": "x",
         "y": [
          170000,
          85000,
          56666.666666666664,
          42500,
          34000,
          28333.333333333332,
          24285.714285714286,
          21250,
          18888.88888888889,
          17000,
          15454.545454545454
         ],
         "yaxis": "y"
        },
        {
         "name": "40x (3)",
         "type": "scatter",
         "x": [
          0,
          1,
          2,
          3,
          4,
          5,
          6,
          7,
          8,
          9,
          10
         ],
         "xaxis": "x",
         "y": [
          133333.33333333334,
          100000,
          80000,
          66666.66666666667,
          57142.857142857145,
          50000,
          44444.444444444445,
          40000,
          36363.63636363636,
          33333.333333333336,
          30769.23076923077
         ],
         "yaxis": "y"
        },
        {
         "name": "73x (4)",
         "type": "scatter",
         "x": [
          0,
          1,
          2,
          3,
          4,
          5,
          6,
          7,
          8,
          9,
          10
         ],
         "xaxis": "x",
         "y": [
          182500,
          146000,
          121666.66666666667,
          104285.71428571429,
          91250,
          81111.11111111111,
          73000,
          66363.63636363637,
          60833.333333333336,
          56153.846153846156,
          52142.857142857145
         ],
         "yaxis": "y"
        },
        {
         "name": "100x (15)",
         "type": "scatter",
         "x": [
          0,
          1,
          2,
          3,
          4,
          5,
          6,
          7,
          8,
          9,
          10
         ],
         "xaxis": "x",
         "y": [
          66666.66666666667,
          62500,
          58823.529411764706,
          55555.555555555555,
          52631.57894736842,
          50000,
          47619.04761904762,
          45454.545454545456,
          43478.260869565216,
          41666.666666666664,
          40000
         ],
         "yaxis": "y"
        },
        {
         "name": "20x (2)",
         "type": "scatter",
         "x": [
          0,
          1,
          2,
          3,
          4,
          5,
          6,
          7,
          8,
          9,
          10
         ],
         "xaxis": "x",
         "y": [
          100000,
          66666.66666666667,
          50000,
          40000,
          33333.333333333336,
          28571.428571428572,
          25000,
          22222.222222222223,
          20000,
          18181.81818181818,
          16666.666666666668
         ],
         "yaxis": "y"
        },
        {
         "name": "41x (3)",
         "type": "scatter",
         "x": [
          0,
          1,
          2,
          3,
          4,
          5,
          6,
          7,
          8,
          9,
          10
         ],
         "xaxis": "x",
         "y": [
          136666.66666666666,
          102500,
          82000,
          68333.33333333333,
          58571.42857142857,
          51250,
          45555.555555555555,
          41000,
          37272.72727272727,
          34166.666666666664,
          31538.46153846154
         ],
         "yaxis": "y"
        },
        {
         "name": "79x (5)",
         "type": "scatter",
         "x": [
          0,
          1,
          2,
          3,
          4,
          5,
          6,
          7,
          8,
          9,
          10
         ],
         "xaxis": "x",
         "y": [
          158000,
          131666.66666666666,
          112857.14285714286,
          98750,
          87777.77777777778,
          79000,
          71818.18181818182,
          65833.33333333333,
          60769.230769230766,
          56428.57142857143,
          52666.666666666664
         ],
         "yaxis": "y"
        },
        {
         "name": "23x (2)",
         "type": "scatter",
         "x": [
          0,
          1,
          2,
          3,
          4,
          5,
          6,
          7,
          8,
          9,
          10
         ],
         "xaxis": "x",
         "y": [
          115000,
          76666.66666666667,
          57500,
          46000,
          38333.333333333336,
          32857.142857142855,
          28750,
          25555.555555555555,
          23000,
          20909.090909090908,
          19166.666666666668
         ],
         "yaxis": "y"
        },
        {
         "name": "47x (3)",
         "type": "scatter",
         "x": [
          0,
          1,
          2,
          3,
          4,
          5,
          6,
          7,
          8,
          9,
          10
         ],
         "xaxis": "x",
         "y": [
          156666.66666666666,
          117500,
          94000,
          78333.33333333333,
          67142.85714285714,
          58750,
          52222.22222222222,
          47000,
          42727.27272727273,
          39166.666666666664,
          36153.846153846156
         ],
         "yaxis": "y"
        },
        {
         "name": "30x (2)",
         "type": "scatter",
         "x": [
          0,
          1,
          2,
          3,
          4,
          5,
          6,
          7,
          8,
          9,
          10
         ],
         "xaxis": "x",
         "y": [
          150000,
          100000,
          75000,
          60000,
          50000,
          42857.142857142855,
          37500,
          33333.333333333336,
          30000,
          27272.727272727272,
          25000
         ],
         "yaxis": "y"
        }
       ],
       "layout": {
        "height": 800,
        "template": {
         "data": {
          "bar": [
           {
            "error_x": {
             "color": "#2a3f5f"
            },
            "error_y": {
             "color": "#2a3f5f"
            },
            "marker": {
             "line": {
              "color": "#E5ECF6",
              "width": 0.5
             },
             "pattern": {
              "fillmode": "overlay",
              "size": 10,
              "solidity": 0.2
             }
            },
            "type": "bar"
           }
          ],
          "barpolar": [
           {
            "marker": {
             "line": {
              "color": "#E5ECF6",
              "width": 0.5
             },
             "pattern": {
              "fillmode": "overlay",
              "size": 10,
              "solidity": 0.2
             }
            },
            "type": "barpolar"
           }
          ],
          "carpet": [
           {
            "aaxis": {
             "endlinecolor": "#2a3f5f",
             "gridcolor": "white",
             "linecolor": "white",
             "minorgridcolor": "white",
             "startlinecolor": "#2a3f5f"
            },
            "baxis": {
             "endlinecolor": "#2a3f5f",
             "gridcolor": "white",
             "linecolor": "white",
             "minorgridcolor": "white",
             "startlinecolor": "#2a3f5f"
            },
            "type": "carpet"
           }
          ],
          "choropleth": [
           {
            "colorbar": {
             "outlinewidth": 0,
             "ticks": ""
            },
            "type": "choropleth"
           }
          ],
          "contour": [
           {
            "colorbar": {
             "outlinewidth": 0,
             "ticks": ""
            },
            "colorscale": [
             [
              0,
              "#0d0887"
             ],
             [
              0.1111111111111111,
              "#46039f"
             ],
             [
              0.2222222222222222,
              "#7201a8"
             ],
             [
              0.3333333333333333,
              "#9c179e"
             ],
             [
              0.4444444444444444,
              "#bd3786"
             ],
             [
              0.5555555555555556,
              "#d8576b"
             ],
             [
              0.6666666666666666,
              "#ed7953"
             ],
             [
              0.7777777777777778,
              "#fb9f3a"
             ],
             [
              0.8888888888888888,
              "#fdca26"
             ],
             [
              1,
              "#f0f921"
             ]
            ],
            "type": "contour"
           }
          ],
          "contourcarpet": [
           {
            "colorbar": {
             "outlinewidth": 0,
             "ticks": ""
            },
            "type": "contourcarpet"
           }
          ],
          "heatmap": [
           {
            "colorbar": {
             "outlinewidth": 0,
             "ticks": ""
            },
            "colorscale": [
             [
              0,
              "#0d0887"
             ],
             [
              0.1111111111111111,
              "#46039f"
             ],
             [
              0.2222222222222222,
              "#7201a8"
             ],
             [
              0.3333333333333333,
              "#9c179e"
             ],
             [
              0.4444444444444444,
              "#bd3786"
             ],
             [
              0.5555555555555556,
              "#d8576b"
             ],
             [
              0.6666666666666666,
              "#ed7953"
             ],
             [
              0.7777777777777778,
              "#fb9f3a"
             ],
             [
              0.8888888888888888,
              "#fdca26"
             ],
             [
              1,
              "#f0f921"
             ]
            ],
            "type": "heatmap"
           }
          ],
          "histogram": [
           {
            "marker": {
             "pattern": {
              "fillmode": "overlay",
              "size": 10,
              "solidity": 0.2
             }
            },
            "type": "histogram"
           }
          ],
          "histogram2d": [
           {
            "colorbar": {
             "outlinewidth": 0,
             "ticks": ""
            },
            "colorscale": [
             [
              0,
              "#0d0887"
             ],
             [
              0.1111111111111111,
              "#46039f"
             ],
             [
              0.2222222222222222,
              "#7201a8"
             ],
             [
              0.3333333333333333,
              "#9c179e"
             ],
             [
              0.4444444444444444,
              "#bd3786"
             ],
             [
              0.5555555555555556,
              "#d8576b"
             ],
             [
              0.6666666666666666,
              "#ed7953"
             ],
             [
              0.7777777777777778,
              "#fb9f3a"
             ],
             [
              0.8888888888888888,
              "#fdca26"
             ],
             [
              1,
              "#f0f921"
             ]
            ],
            "type": "histogram2d"
           }
          ],
          "histogram2dcontour": [
           {
            "colorbar": {
             "outlinewidth": 0,
             "ticks": ""
            },
            "colorscale": [
             [
              0,
              "#0d0887"
             ],
             [
              0.1111111111111111,
              "#46039f"
             ],
             [
              0.2222222222222222,
              "#7201a8"
             ],
             [
              0.3333333333333333,
              "#9c179e"
             ],
             [
              0.4444444444444444,
              "#bd3786"
             ],
             [
              0.5555555555555556,
              "#d8576b"
             ],
             [
              0.6666666666666666,
              "#ed7953"
             ],
             [
              0.7777777777777778,
              "#fb9f3a"
             ],
             [
              0.8888888888888888,
              "#fdca26"
             ],
             [
              1,
              "#f0f921"
             ]
            ],
            "type": "histogram2dcontour"
           }
          ],
          "mesh3d": [
           {
            "colorbar": {
             "outlinewidth": 0,
             "ticks": ""
            },
            "type": "mesh3d"
           }
          ],
          "parcoords": [
           {
            "line": {
             "colorbar": {
              "outlinewidth": 0,
              "ticks": ""
             }
            },
            "type": "parcoords"
           }
          ],
          "pie": [
           {
            "automargin": true,
            "type": "pie"
           }
          ],
          "scatter": [
           {
            "fillpattern": {
             "fillmode": "overlay",
             "size": 10,
             "solidity": 0.2
            },
            "type": "scatter"
           }
          ],
          "scatter3d": [
           {
            "line": {
             "colorbar": {
              "outlinewidth": 0,
              "ticks": ""
             }
            },
            "marker": {
             "colorbar": {
              "outlinewidth": 0,
              "ticks": ""
             }
            },
            "type": "scatter3d"
           }
          ],
          "scattercarpet": [
           {
            "marker": {
             "colorbar": {
              "outlinewidth": 0,
              "ticks": ""
             }
            },
            "type": "scattercarpet"
           }
          ],
          "scattergeo": [
           {
            "marker": {
             "colorbar": {
              "outlinewidth": 0,
              "ticks": ""
             }
            },
            "type": "scattergeo"
           }
          ],
          "scattergl": [
           {
            "marker": {
             "colorbar": {
              "outlinewidth": 0,
              "ticks": ""
             }
            },
            "type": "scattergl"
           }
          ],
          "scattermap": [
           {
            "marker": {
             "colorbar": {
              "outlinewidth": 0,
              "ticks": ""
             }
            },
            "type": "scattermap"
           }
          ],
          "scattermapbox": [
           {
            "marker": {
             "colorbar": {
              "outlinewidth": 0,
              "ticks": ""
             }
            },
            "type": "scattermapbox"
           }
          ],
          "scatterpolar": [
           {
            "marker": {
             "colorbar": {
              "outlinewidth": 0,
              "ticks": ""
             }
            },
            "type": "scatterpolar"
           }
          ],
          "scatterpolargl": [
           {
            "marker": {
             "colorbar": {
              "outlinewidth": 0,
              "ticks": ""
             }
            },
            "type": "scatterpolargl"
           }
          ],
          "scatterternary": [
           {
            "marker": {
             "colorbar": {
              "outlinewidth": 0,
              "ticks": ""
             }
            },
            "type": "scatterternary"
           }
          ],
          "surface": [
           {
            "colorbar": {
             "outlinewidth": 0,
             "ticks": ""
            },
            "colorscale": [
             [
              0,
              "#0d0887"
             ],
             [
              0.1111111111111111,
              "#46039f"
             ],
             [
              0.2222222222222222,
              "#7201a8"
             ],
             [
              0.3333333333333333,
              "#9c179e"
             ],
             [
              0.4444444444444444,
              "#bd3786"
             ],
             [
              0.5555555555555556,
              "#d8576b"
             ],
             [
              0.6666666666666666,
              "#ed7953"
             ],
             [
              0.7777777777777778,
              "#fb9f3a"
             ],
             [
              0.8888888888888888,
              "#fdca26"
             ],
             [
              1,
              "#f0f921"
             ]
            ],
            "type": "surface"
           }
          ],
          "table": [
           {
            "cells": {
             "fill": {
              "color": "#EBF0F8"
             },
             "line": {
              "color": "white"
             }
            },
            "header": {
             "fill": {
              "color": "#C8D4E3"
             },
             "line": {
              "color": "white"
             }
            },
            "type": "table"
           }
          ]
         },
         "layout": {
          "annotationdefaults": {
           "arrowcolor": "#2a3f5f",
           "arrowhead": 0,
           "arrowwidth": 1
          },
          "autotypenumbers": "strict",
          "coloraxis": {
           "colorbar": {
            "outlinewidth": 0,
            "ticks": ""
           }
          },
          "colorscale": {
           "diverging": [
            [
             0,
             "#8e0152"
            ],
            [
             0.1,
             "#c51b7d"
            ],
            [
             0.2,
             "#de77ae"
            ],
            [
             0.3,
             "#f1b6da"
            ],
            [
             0.4,
             "#fde0ef"
            ],
            [
             0.5,
             "#f7f7f7"
            ],
            [
             0.6,
             "#e6f5d0"
            ],
            [
             0.7,
             "#b8e186"
            ],
            [
             0.8,
             "#7fbc41"
            ],
            [
             0.9,
             "#4d9221"
            ],
            [
             1,
             "#276419"
            ]
           ],
           "sequential": [
            [
             0,
             "#0d0887"
            ],
            [
             0.1111111111111111,
             "#46039f"
            ],
            [
             0.2222222222222222,
             "#7201a8"
            ],
            [
             0.3333333333333333,
             "#9c179e"
            ],
            [
             0.4444444444444444,
             "#bd3786"
            ],
            [
             0.5555555555555556,
             "#d8576b"
            ],
            [
             0.6666666666666666,
             "#ed7953"
            ],
            [
             0.7777777777777778,
             "#fb9f3a"
            ],
            [
             0.8888888888888888,
             "#fdca26"
            ],
            [
             1,
             "#f0f921"
            ]
           ],
           "sequentialminus": [
            [
             0,
             "#0d0887"
            ],
            [
             0.1111111111111111,
             "#46039f"
            ],
            [
             0.2222222222222222,
             "#7201a8"
            ],
            [
             0.3333333333333333,
             "#9c179e"
            ],
            [
             0.4444444444444444,
             "#bd3786"
            ],
            [
             0.5555555555555556,
             "#d8576b"
            ],
            [
             0.6666666666666666,
             "#ed7953"
            ],
            [
             0.7777777777777778,
             "#fb9f3a"
            ],
            [
             0.8888888888888888,
             "#fdca26"
            ],
            [
             1,
             "#f0f921"
            ]
           ]
          },
          "colorway": [
           "#636efa",
           "#EF553B",
           "#00cc96",
           "#ab63fa",
           "#FFA15A",
           "#19d3f3",
           "#FF6692",
           "#B6E880",
           "#FF97FF",
           "#FECB52"
          ],
          "font": {
           "color": "#2a3f5f"
          },
          "geo": {
           "bgcolor": "white",
           "lakecolor": "white",
           "landcolor": "#E5ECF6",
           "showlakes": true,
           "showland": true,
           "subunitcolor": "white"
          },
          "hoverlabel": {
           "align": "left"
          },
          "hovermode": "closest",
          "mapbox": {
           "style": "light"
          },
          "paper_bgcolor": "white",
          "plot_bgcolor": "#E5ECF6",
          "polar": {
           "angularaxis": {
            "gridcolor": "white",
            "linecolor": "white",
            "ticks": ""
           },
           "bgcolor": "#E5ECF6",
           "radialaxis": {
            "gridcolor": "white",
            "linecolor": "white",
            "ticks": ""
           }
          },
          "scene": {
           "xaxis": {
            "backgroundcolor": "#E5ECF6",
            "gridcolor": "white",
            "gridwidth": 2,
            "linecolor": "white",
            "showbackground": true,
            "ticks": "",
            "zerolinecolor": "white"
           },
           "yaxis": {
            "backgroundcolor": "#E5ECF6",
            "gridcolor": "white",
            "gridwidth": 2,
            "linecolor": "white",
            "showbackground": true,
            "ticks": "",
            "zerolinecolor": "white"
           },
           "zaxis": {
            "backgroundcolor": "#E5ECF6",
            "gridcolor": "white",
            "gridwidth": 2,
            "linecolor": "white",
            "showbackground": true,
            "ticks": "",
            "zerolinecolor": "white"
           }
          },
          "shapedefaults": {
           "line": {
            "color": "#2a3f5f"
           }
          },
          "ternary": {
           "aaxis": {
            "gridcolor": "white",
            "linecolor": "white",
            "ticks": ""
           },
           "baxis": {
            "gridcolor": "white",
            "linecolor": "white",
            "ticks": ""
           },
           "bgcolor": "#E5ECF6",
           "caxis": {
            "gridcolor": "white",
            "linecolor": "white",
            "ticks": ""
           }
          },
          "title": {
           "x": 0.05
          },
          "xaxis": {
           "automargin": true,
           "gridcolor": "white",
           "linecolor": "white",
           "ticks": "",
           "title": {
            "standoff": 15
           },
           "zerolinecolor": "white",
           "zerolinewidth": 2
          },
          "yaxis": {
           "automargin": true,
           "gridcolor": "white",
           "linecolor": "white",
           "ticks": "",
           "title": {
            "standoff": 15
           },
           "zerolinecolor": "white",
           "zerolinewidth": 2
          }
         }
        },
        "xaxis": {
         "anchor": "y",
         "domain": [
          0,
          1
         ]
        },
        "yaxis": {
         "anchor": "x",
         "domain": [
          0,
          1
         ]
        }
       }
      }
     },
     "metadata": {},
     "output_type": "display_data"
    }
   ],
   "source": [
    "containers = {\n",
    "    80: 6,\n",
    "    50: 4,\n",
    "    83: 7,\n",
    "    31: 2,\n",
    "    60: 4,\n",
    "    89: 8,\n",
    "    10: 1,\n",
    "    37: 3,\n",
    "    70: 4,\n",
    "    90: 10,\n",
    "    17: 1,\n",
    "    40: 3,\n",
    "    73: 4,\n",
    "    100: 15,\n",
    "    20: 2,\n",
    "    41: 3,\n",
    "    79: 5,\n",
    "    23: 2,\n",
    "    47: 3,\n",
    "    30: 2,\n",
    "}\n",
    "\n",
    "total_inhabitants = sum(containers.values())\n",
    "total_base_shells = sum(((multiplier * 10_000) / inhabitants) for multiplier, inhabitants in containers.items())\n",
    "\n",
    "fig = make_subplots(rows=1, cols=1)\n",
    "\n",
    "for multiplier, inhabitants in containers.items():\n",
    "    base_shells = (multiplier * 10_000) / inhabitants\n",
    "\n",
    "    inhabitants_pct = inhabitants / total_inhabitants * 100\n",
    "    expected_shells_inhabitants = (multiplier * 10_000) / (inhabitants + inhabitants_pct)\n",
    "\n",
    "    base_pct = base_shells / total_base_shells * 100\n",
    "    expected_shells_base = (multiplier * 10_000) / (inhabitants + base_pct)\n",
    "\n",
    "    x = []\n",
    "    y = []\n",
    "    for i in range(0, 11):\n",
    "        x.append(i)\n",
    "        y.append((multiplier * 10_000) / (inhabitants + i))\n",
    "\n",
    "    fig.add_trace(go.Scatter(x=x, y=y, name=f\"{multiplier}x ({inhabitants})\"), row=1, col=1)\n",
    "\n",
    "    print(\n",
    "        f\"{multiplier=} {inhabitants=} {base_shells=:,.0f} {inhabitants_pct=:,.3f} {expected_shells_inhabitants=:,.0f} {base_pct=:,.3f} {expected_shells_base=:,.0f}\"\n",
    "    )\n",
    "\n",
    "fig.update_layout(height=800)\n",
    "fig.show()"
   ]
  }
 ],
 "metadata": {
  "kernelspec": {
   "display_name": ".venv",
   "language": "python",
   "name": "python3"
  },
  "language_info": {
   "codemirror_mode": {
    "name": "ipython",
    "version": 3
   },
   "file_extension": ".py",
   "mimetype": "text/x-python",
   "name": "python",
   "nbconvert_exporter": "python",
   "pygments_lexer": "ipython3",
   "version": "3.12.3"
  }
 },
 "nbformat": 4,
 "nbformat_minor": 2
}
