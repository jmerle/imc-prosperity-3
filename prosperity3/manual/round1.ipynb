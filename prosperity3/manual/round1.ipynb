{
 "cells": [
  {
   "cell_type": "markdown",
   "metadata": {},
   "source": [
    "This notebook is largely copied from my notebook for Prosperity 2 round 2's manual challenge: https://github.com/jmerle/imc-prosperity-2/blob/master/src/analysis/round2-manual.ipynb"
   ]
  },
  {
   "cell_type": "code",
   "execution_count": 1,
   "metadata": {},
   "outputs": [],
   "source": [
    "from enum import IntEnum\n",
    "from itertools import product"
   ]
  },
  {
   "cell_type": "code",
   "execution_count": 2,
   "metadata": {},
   "outputs": [
    {
     "data": {
      "text/plain": [
       "0.72"
      ]
     },
     "execution_count": 2,
     "metadata": {},
     "output_type": "execute_result"
    }
   ],
   "source": [
    "class Currency(IntEnum):\n",
    "    SNOWBALL = 0\n",
    "    PIZZA = 1\n",
    "    SILICON_NUGGET = 2\n",
    "    SHELL = 3\n",
    "\n",
    "\n",
    "# rates[from][to] = <exchange rate>\n",
    "rates = [\n",
    "    [1.00, 1.45, 0.52, 0.72],\n",
    "    [0.70, 1.00, 0.31, 0.48],\n",
    "    [1.95, 3.10, 1.00, 1.49],\n",
    "    [1.34, 1.98, 0.64, 1.00],\n",
    "]\n",
    "\n",
    "rates[Currency.SNOWBALL][Currency.SHELL]"
   ]
  },
  {
   "cell_type": "code",
   "execution_count": 3,
   "metadata": {},
   "outputs": [
    {
     "name": "stdout",
     "output_type": "stream",
     "text": [
      "1: (<Currency.SHELL: 3>,) -> 1.000000\n",
      "2: (<Currency.SNOWBALL: 0>, <Currency.SILICON_NUGGET: 2>) -> 1.038232\n",
      "3: (<Currency.PIZZA: 1>, <Currency.SNOWBALL: 0>, <Currency.SILICON_NUGGET: 2>) -> 1.073873\n",
      "4: (<Currency.SNOWBALL: 0>, <Currency.SILICON_NUGGET: 2>, <Currency.PIZZA: 1>, <Currency.SNOWBALL: 0>) -> 1.088680\n"
     ]
    }
   ],
   "source": [
    "def score(strategy: list[Currency]) -> None:\n",
    "    value = 1\n",
    "    current_currency = Currency.SHELL\n",
    "\n",
    "    for currency in strategy:\n",
    "        value *= rates[current_currency][currency]\n",
    "        current_currency = currency\n",
    "\n",
    "    return value * rates[current_currency][Currency.SHELL]\n",
    "\n",
    "\n",
    "def find_best_strategy(no_choices: int) -> list[Currency]:\n",
    "    strategies = product(*[Currency for _ in range(no_choices)])\n",
    "    return max(strategies, key=score)\n",
    "\n",
    "\n",
    "for i in range(1, 5):\n",
    "    strategy = find_best_strategy(i)\n",
    "    strategy_score = score(strategy)\n",
    "\n",
    "    print(f\"{i}: {strategy} -> {strategy_score:,.6f}\")"
   ]
  }
 ],
 "metadata": {
  "kernelspec": {
   "display_name": ".venv",
   "language": "python",
   "name": "python3"
  },
  "language_info": {
   "codemirror_mode": {
    "name": "ipython",
    "version": 3
   },
   "file_extension": ".py",
   "mimetype": "text/x-python",
   "name": "python",
   "nbconvert_exporter": "python",
   "pygments_lexer": "ipython3",
   "version": "3.12.3"
  }
 },
 "nbformat": 4,
 "nbformat_minor": 2
}
